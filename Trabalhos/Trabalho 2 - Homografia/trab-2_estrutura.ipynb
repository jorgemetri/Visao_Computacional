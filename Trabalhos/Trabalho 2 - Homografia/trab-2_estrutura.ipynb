{
 "cells": [
  {
   "cell_type": "markdown",
   "id": "65b88b79",
   "metadata": {},
   "source": [
    "### Trabalho 02: Estimação de Homogradia usando RANSAC"
   ]
  },
  {
   "cell_type": "code",
   "execution_count": 1,
   "id": "e07262f4",
   "metadata": {},
   "outputs": [],
   "source": [
    "import numpy as np\n",
    "import matplotlib.pyplot as plt\n",
    "import math\n",
    "import cv2 as cv\n",
    "np.random.seed(0)#Define a semente aleatória que será utilizada para sortear os valores em S\n",
    "import random"
   ]
  },
  {
   "cell_type": "markdown",
   "id": "68484b8d",
   "metadata": {},
   "source": [
    "#### 1.0 Função para normalizar pontos"
   ]
  },
  {
   "cell_type": "markdown",
   "id": "7210b924",
   "metadata": {},
   "source": [
    "Para que possamos normalizar os pontos fornecidos devemos seguir os seguinte passos:\n",
    "- Dado n >= 4 pontos de correspondência :\n",
    "$$\n",
    "\\vec{X_i}, \\vec{X_i'}\n",
    "$$\n",
    "- Uma Transformação de similidaridade T1 dada por:\n",
    "$$\n",
    "T_1 =\\begin{bmatrix}\n",
    "s & 0 & t_x \\\\\n",
    "0 & s & t_y \\\\\n",
    "0 & 0 & 1\n",
    "\\end{bmatrix}\n",
    "$$\n",
    "o novo conjunto de pontos normalizados serão dados por:\n",
    "$$\n",
    "\\vec{\\hat{X_i}} = T_1\\vec{X_i}\n",
    "$$\n",
    "$$\n",
    "\\vec{\\hat{X_i'}} = T_1\\vec{X_i'}\n",
    "$$\n",
    "Como o centroide de $ \\vec{\\hat{X_i}}$ deve ser $(0,0,1)^T$ chegamos na seguinte equação:\n",
    "$$\n",
    "\\begin{bmatrix}\n",
    "\\bar{\\hat{x}} \\\\\n",
    "\\bar{\\hat{y}} \\\\\n",
    "1\n",
    "\\end{bmatrix}\n",
    "=\\begin{bmatrix}\n",
    "s\\bar{x}+t_x \\\\\n",
    "s\\bar{y}+t_y \\\\\n",
    "1\n",
    "\n",
    "\\end{bmatrix}\n",
    "= (0,0,1)^T\n",
    "$$\n",
    "Assim chegamos em:\n",
    "$$\n",
    "t_x=-s\\bar{x},t_y=-s\\bar{y}\n",
    "$$\n",
    "Além disso temos que a distância média entre $ \\vec{\\hat{X_i}}$ e a origem é:\n",
    "$$\n",
    "\\frac{1}{n}\\sum_i \\sqrt(\\hat{x_i}^2+\\hat{y_i}^2)\n",
    "$$\n",
    "$$\n",
    "=\\frac{1}{n}\\sum_i \\sqrt(\\( \\hat{x_i}^2+\\hat{y_i}^2\\))\n",
    "$$\n"
   ]
  }
 ],
 "metadata": {
  "kernelspec": {
   "display_name": ".conda",
   "language": "python",
   "name": "python3"
  },
  "language_info": {
   "codemirror_mode": {
    "name": "ipython",
    "version": 3
   },
   "file_extension": ".py",
   "mimetype": "text/x-python",
   "name": "python",
   "nbconvert_exporter": "python",
   "pygments_lexer": "ipython3",
   "version": "3.12.11"
  }
 },
 "nbformat": 4,
 "nbformat_minor": 5
}
